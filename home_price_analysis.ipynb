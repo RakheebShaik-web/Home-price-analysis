{
 "cells": [
  {
   "cell_type": "markdown",
   "id": "58364a05",
   "metadata": {},
   "source": [
    "# Modeling U.S. Home Price Dynamics Over 20 Years\n",
    "**Using S&P Case-Shiller Index & Economic Indicators**\n",
    "\n",
    "This notebook walks through data collection, preprocessing, EDA, modeling, and interpretation for how key factors influenced U.S. home prices."
   ]
  },
  {
   "cell_type": "code",
   "execution_count": null,
   "id": "f5614fd4",
   "metadata": {},
   "outputs": [],
   "source": [
    "# 1. Data Collection\n",
    "import pandas_datareader.data as web\n",
    "import pandas as pd\n",
    "import datetime\n",
    "\n",
    "start = datetime.datetime(2005, 1, 1)\n",
    "end = datetime.datetime(2024, 12, 31)\n",
    "\n",
    "series = {\n",
    "    'HomePriceIndex':'CSUSHPINSA',\n",
    "    'MortgageRate':'MORTGAGE30US',\n",
    "    'Unemployment':'UNRATE',\n",
    "    'CPI':'CPIAUCSL',\n",
    "    'GDP':'GDP',\n",
    "    'FedFundsRate':'FEDFUNDS',\n",
    "    'HousingStarts':'HOUST'\n",
    "}\n",
    "\n",
    "data = {}\n",
    "for name, code in series.items():\n",
    "    df = web.DataReader(code, 'fred', start, end)\n",
    "    if name == 'GDP':\n",
    "        df = df.resample('M').ffill()\n",
    "    data[name] = df\n",
    "\n",
    "df = pd.concat(data.values(), axis=1)\n",
    "df.columns = data.keys()\n",
    "df.dropna(inplace=True)\n",
    "df.head()"
   ]
  },
  {
   "cell_type": "code",
   "execution_count": null,
   "id": "f21bc96e",
   "metadata": {},
   "outputs": [],
   "source": [
    "# 2. Exploratory Data Analysis\n",
    "import matplotlib.pyplot as plt\n",
    "\n",
    "# Plot time series\n",
    "df.plot(subplots=True, figsize=(10,12), title='Time Series of Variables')\n",
    "plt.tight_layout()\n",
    "plt.show()\n",
    "\n",
    "# Correlation heatmap\n",
    "import seaborn as sns\n",
    "plt.figure(figsize=(8,6))\n",
    "sns.heatmap(df.corr(), annot=True, cmap='coolwarm')\n",
    "plt.title('Correlation Matrix')\n",
    "plt.show()"
   ]
  },
  {
   "cell_type": "code",
   "execution_count": null,
   "id": "c1c17ca3",
   "metadata": {},
   "outputs": [],
   "source": [
    "# 3. Modeling\n",
    "from sklearn.model_selection import train_test_split\n",
    "from sklearn.linear_model import LinearRegression\n",
    "from sklearn.metrics import mean_squared_error, r2_score\n",
    "\n",
    "X = df.drop(columns='HomePriceIndex')\n",
    "y = df['HomePriceIndex']\n",
    "\n",
    "X_train, X_test, y_train, y_test = train_test_split(X, y, test_size=0.2, shuffle=False)\n",
    "\n",
    "model = LinearRegression()\n",
    "model.fit(X_train, y_train)\n",
    "y_pred = model.predict(X_test)\n",
    "\n",
    "print(\"R² Score:\", r2_score(y_test, y_pred))\n",
    "print(\"RMSE:\", mean_squared_error(y_test, y_pred, squared=False))"
   ]
  },
  {
   "cell_type": "code",
   "execution_count": null,
   "id": "67bedbfd",
   "metadata": {},
   "outputs": [],
   "source": [
    "# 4. Feature Importance\n",
    "import pandas as pd\n",
    "\n",
    "importance = pd.Series(model.coef_, index=X.columns)\n",
    "importance.sort_values().plot(kind='barh', figsize=(6,4), title='Feature Importance')\n",
    "plt.xlabel('Coefficient')\n",
    "plt.show()"
   ]
  },
  {
   "cell_type": "markdown",
   "id": "fecd437d",
   "metadata": {},
   "source": [
    "## Conclusions\n",
    "- Discussed relationships between interest rates, economic growth, unemployment, and home prices.\n",
    "- Linear model R² and RMSE provide a baseline; consider advanced models next."
   ]
  }
 ],
 "metadata": {},
 "nbformat": 4,
 "nbformat_minor": 5
}
